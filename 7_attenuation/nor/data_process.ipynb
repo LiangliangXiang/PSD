{
 "cells": [
  {
   "cell_type": "code",
   "execution_count": 1,
   "metadata": {},
   "outputs": [],
   "source": [
    "import pandas as pd; import numpy as np\n",
    "\n",
    "s1 = pd.DataFrame()\n",
    "for i in range(24):\n",
    "  df_ankle = pd.read_csv('nor_ankle_psd.csv',header=None)\n",
    "  df_knee = pd.read_csv('nor_knee_psd.csv',header=None)\n",
    "  df_ankle = df_ankle.iloc[:,i]\n",
    "  df_knee = df_knee.iloc[:,i]\n",
    "  df=10*np.log10(df_knee/df_ankle)\n",
    "  s2=pd.DataFrame(df)\n",
    "  S=pd.concat([s1,s2],axis=1)\n",
    "  s1=S\n",
    "\n",
    "  i+=1\n",
    "S.to_csv('nor_attenuation.csv',index=False, header=None)\n",
    "\n"
   ]
  }
 ],
 "metadata": {
  "interpreter": {
   "hash": "906781efac87dc96be4b9d877df8ef1de6c1ed5425270cc4c47979101d431f15"
  },
  "kernelspec": {
   "display_name": "Python 3.8.8 64-bit ('base': conda)",
   "language": "python",
   "name": "python3"
  },
  "language_info": {
   "codemirror_mode": {
    "name": "ipython",
    "version": 3
   },
   "file_extension": ".py",
   "mimetype": "text/x-python",
   "name": "python",
   "nbconvert_exporter": "python",
   "pygments_lexer": "ipython3",
   "version": "3.8.8"
  },
  "orig_nbformat": 4
 },
 "nbformat": 4,
 "nbformat_minor": 2
}
